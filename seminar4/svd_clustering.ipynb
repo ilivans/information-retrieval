{
 "cells": [
  {
   "cell_type": "code",
   "execution_count": 10,
   "metadata": {
    "collapsed": false
   },
   "outputs": [],
   "source": [
    "import numpy as np\n",
    "import scipy\n",
    "from sparsesvd import sparsesvd\n",
    "\n",
    "from make_index import build_index, get_vocabulary, build_inverted_index\n",
    "\n",
    "dir_path = \"./txt/\"\n",
    "index, doc_id_to_path = build_index(dir_path)\n",
    "vocabulary, term_to_id = get_vocabulary(index)\n",
    "voc_size = vocabulary.shape[0]\n",
    "inverted_index = build_inverted_index(index, term_to_id)\n",
    "\n",
    "num_docs = len(index)\n",
    "del index\n",
    "\n",
    "def get_tf_matrix(inverted_index):\n",
    "    tf_matrix = np.zeros((voc_size, num_docs), dtype=np.float32)\n",
    "    for term, posting_list in enumerate(inverted_index):\n",
    "        for doc_id, tf in posting_list.iteritems():\n",
    "            tf_matrix[term, doc_id] = tf\n",
    "    return tf_matrix\n",
    "\n",
    "tf_matrix = get_tf_matrix(inverted_index)"
   ]
  },
  {
   "cell_type": "code",
   "execution_count": 11,
   "metadata": {
    "collapsed": false
   },
   "outputs": [],
   "source": [
    "def normalize(tf_matrix):\n",
    "    tf_normalized = tf_matrix / tf_matrix.sum(axis=1).reshape((-1, 1))\n",
    "    \n",
    "    tf_normalized = (tf_normalized * np.ma.log(tf_normalized).filled(0.) / np.log(num_docs)).sum(axis=1).reshape((-1, 1))\n",
    "    tf_normalized = tf_normalized * np.log(tf_matrix + 1.)\n",
    "    return tf_normalized\n",
    "\n",
    "tf_matrix = normalize(tf_matrix)"
   ]
  },
  {
   "cell_type": "code",
   "execution_count": 12,
   "metadata": {
    "collapsed": true
   },
   "outputs": [],
   "source": [
    "tf_matrix = scipy.sparse.csc_matrix(tf_matrix)"
   ]
  },
  {
   "cell_type": "markdown",
   "metadata": {},
   "source": [
    "Не нашёл библиотеки, которая позволяла бы делать разложение на 1000 сингулярных чисел. Есть имплементации с параметром full_matrices, но для них не хватает оперативной памяти. Поэтому делаю разложение на размер наименьшей оси (кол-во документов)."
   ]
  },
  {
   "cell_type": "code",
   "execution_count": 14,
   "metadata": {
    "collapsed": false
   },
   "outputs": [
    {
     "name": "stdout",
     "output_type": "stream",
     "text": [
      "Wall time: 2.46 s\n"
     ]
    }
   ],
   "source": [
    "%%time\n",
    "Ut, S, Vt = sparsesvd(tf_matrix, 1000) "
   ]
  },
  {
   "cell_type": "code",
   "execution_count": 35,
   "metadata": {
    "collapsed": false
   },
   "outputs": [],
   "source": [
    "diff_norms = np.cumsum((S**2)[::-1])[::-1]\n",
    "diff_norms -= diff_norms[-1]"
   ]
  },
  {
   "cell_type": "code",
   "execution_count": 36,
   "metadata": {
    "collapsed": false
   },
   "outputs": [
    {
     "data": {
      "image/png": "[encoded data removed]",
      "text/plain": [
       "<matplotlib.figure.Figure at 0x21c0b9b0>"
      ]
     },
     "metadata": {},
     "output_type": "display_data"
    }
   ],
   "source": [
    "import matplotlib.pyplot as plt\n",
    "%matplotlib inline\n",
    "\n",
    "plt.figure(figsize=(15,10))\n",
    "plt.plot(diff_norms);"
   ]
  },
  {
   "cell_type": "markdown",
   "metadata": {
    "collapsed": true
   },
   "source": [
    "Выберем r=403, т.е. на конце графика наиб."
   ]
  }
 ],
 "metadata": {
  "anaconda-cloud": {},
  "kernelspec": {
   "display_name": "Python [default]",
   "language": "python",
   "name": "python2"
  },
  "language_info": {
   "codemirror_mode": {
    "name": "ipython",
    "version": 2
   },
   "file_extension": ".py",
   "mimetype": "text/x-python",
   "name": "python",
   "nbconvert_exporter": "python",
   "pygments_lexer": "ipython2",
   "version": "2.7.11"
  }
 },
 "nbformat": 4,
 "nbformat_minor": 0
}
