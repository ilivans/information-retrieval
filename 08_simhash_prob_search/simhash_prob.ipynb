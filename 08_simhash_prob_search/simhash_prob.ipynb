{
 "cells": [
  {
   "cell_type": "code",
   "execution_count": 1,
   "metadata": {
    "collapsed": true
   },
   "outputs": [],
   "source": [
    "import os\n",
    "import sys\n",
    "from time import time\n",
    "from collections import defaultdict, Counter\n",
    "from heapq import heappush, heappop, heapify\n",
    "\n",
    "import numpy as np\n",
    "import scipy.stats as sps\n",
    "from nltk.tokenize import RegexpTokenizer\n",
    "from IPython.display import clear_output\n",
    "import matplotlib.pyplot as plt\n",
    "%matplotlib inline"
   ]
  },
  {
   "cell_type": "markdown",
   "metadata": {},
   "source": [
    "Читаем документы и считаем simhash-и."
   ]
  },
  {
   "cell_type": "code",
   "execution_count": 34,
   "metadata": {
    "collapsed": true
   },
   "outputs": [],
   "source": [
    "tokenize = RegexpTokenizer(\"\\w+\").tokenize\n",
    "positive_hash = lambda word: hash(word) % ((sys.maxsize + 1) * 2)\n",
    "dir_path = \"/home/ilivans/data/simple.wiki/pages\"\n",
    "assert os.path.exists(dir_path)"
   ]
  },
  {
   "cell_type": "code",
   "execution_count": 43,
   "metadata": {
    "collapsed": true
   },
   "outputs": [],
   "source": [
    "def remained_time(start, i, total, step=500):\n",
    "    if i % step == 0:\n",
    "        spent = time() - start\n",
    "        clear_output()\n",
    "        print \"Processed: {}\\tRemained time: {:.2f} hours\".format(\n",
    "            i + 1, (float(total) / (i + 1) - 1) * spent / 60 / 60)"
   ]
  },
  {
   "cell_type": "code",
   "execution_count": 37,
   "metadata": {},
   "outputs": [
    {
     "name": "stdout",
     "output_type": "stream",
     "text": [
      "CPU times: user 5h 8min 55s, sys: 28.8 s, total: 5h 9min 24s\n",
      "Wall time: 5h 8min 14s\n"
     ]
    }
   ],
   "source": [
    "%%time\n",
    "Xs = []\n",
    "simhashes = []\n",
    "simhash_to_name = defaultdict(lambda : [])\n",
    "start = time()\n",
    "for i, filename in enumerate(os.listdir(_DIR_PATH)):\n",
    "    filepath = os.path.join(_DIR_PATH, filename)\n",
    "    with open(filepath) as f:\n",
    "        doc = f.read()\n",
    "\n",
    "    X = np.zeros(64, dtype=np.int32)\n",
    "    tokens = tokenize(doc)\n",
    "    for hash_ in map(positive_hash, tokens):\n",
    "        X += np.array(list(format(hash_, \"064b\")), dtype=np.int32)\n",
    "    X *= 2\n",
    "    X -= len(tokens)    \n",
    "    Xs.append(X)\n",
    "\n",
    "    simhash = np.uint64(int(\"\".join(map(str, np.clip(np.sign(X), 0, 1))), 2))\n",
    "    simhashes.append(simhash)\n",
    "    simhash_to_name[simhash].append(filename)\n",
    "    \n",
    "    remained_time(start, i, 135000)\n",
    "\n",
    "clear_output()"
   ]
  },
  {
   "cell_type": "code",
   "execution_count": 38,
   "metadata": {
    "collapsed": true
   },
   "outputs": [],
   "source": [
    "Xs = np.array(Xs)\n",
    "simhashes = np.array(simhashes)\n",
    "np.save(\"Xs\", Xs)\n",
    "np.save(\"simhashes\", simhashes)"
   ]
  },
  {
   "cell_type": "code",
   "execution_count": 2,
   "metadata": {
    "collapsed": true
   },
   "outputs": [],
   "source": [
    "Xs = np.load(\"Xs.npy\")\n",
    "simhashes = np.load(\"simhashes.npy\")"
   ]
  },
  {
   "cell_type": "code",
   "execution_count": 3,
   "metadata": {},
   "outputs": [
    {
     "name": "stdout",
     "output_type": "stream",
     "text": [
      "Number of samples: 135325\n",
      "SimHash example: 101001000000000111010100000101110001000100111110000\n",
      "SimHash size: 64\n"
     ]
    }
   ],
   "source": [
    "SIMHASH_SIZE = 64\n",
    "MAX_DISTANCE = 3\n",
    "num_samples = len(simhashes)\n",
    "print \"Number of samples:\", num_samples\n",
    "print \"SimHash example:\", format(simhashes[0], \"b\")\n",
    "print \"SimHash size:\", SIMHASH_SIZE"
   ]
  },
  {
   "cell_type": "markdown",
   "metadata": {},
   "source": [
    "## Точный поиск полудублей."
   ]
  },
  {
   "cell_type": "markdown",
   "metadata": {},
   "source": [
    "Поделим simhash-и на 4 части для индексирования."
   ]
  },
  {
   "cell_type": "code",
   "execution_count": 31,
   "metadata": {
    "collapsed": true
   },
   "outputs": [],
   "source": [
    "NUM_PARTS = MAX_DISTANCE + 1\n",
    "PART_SIZE = SIMHASH_SIZE / NUM_PARTS"
   ]
  },
  {
   "cell_type": "code",
   "execution_count": 32,
   "metadata": {
    "collapsed": true
   },
   "outputs": [],
   "source": [
    "neg_part_mask = \"0\" * PART_SIZE\n",
    "pos_part_mask = \"1\" * PART_SIZE\n",
    "masks = [neg_part_mask * part_id + pos_part_mask + neg_part_mask * (NUM_PARTS - part_id - 1)\\\n",
    "         for part_id in range(NUM_PARTS)]\n",
    "masks = np.array([int(mask, 2) for mask in masks], dtype=np.uint64)\n",
    "\n",
    "def get_part(simhash, part_id):\n",
    "    return int(simhash & masks[part_id]) >> (PART_SIZE * (NUM_PARTS - part_id - 1))"
   ]
  },
  {
   "cell_type": "code",
   "execution_count": 33,
   "metadata": {
    "collapsed": true
   },
   "outputs": [],
   "source": [
    "simhashes_parts = np.zeros((len(simhashes), NUM_PARTS), dtype=np.int32)\n",
    "for simhash_id, simhash in enumerate(simhashes):\n",
    "    for part_id in xrange(NUM_PARTS):\n",
    "        simhashes_parts[simhash_id][part_id] = get_part(simhash, part_id)"
   ]
  },
  {
   "cell_type": "markdown",
   "metadata": {},
   "source": [
    "Построим индексы."
   ]
  },
  {
   "cell_type": "code",
   "execution_count": 34,
   "metadata": {
    "collapsed": true
   },
   "outputs": [],
   "source": [
    "indices = [[list() for __ in xrange(2 ** PART_SIZE)] for _ in xrange(NUM_PARTS)]\n",
    "for simhash_id in xrange(num_samples):\n",
    "    simhash_parts = simhashes_parts[simhash_id]\n",
    "    for part_id in xrange(NUM_PARTS):\n",
    "        indices[part_id][simhash_parts[part_id]].append(simhash_id)"
   ]
  },
  {
   "cell_type": "markdown",
   "metadata": {},
   "source": [
    "Заведём сет удовлетворяющих xor-ов между хешами."
   ]
  },
  {
   "cell_type": "code",
   "execution_count": 35,
   "metadata": {
    "collapsed": true
   },
   "outputs": [],
   "source": [
    "# This function will serve us later as well\n",
    "def permutations(num_ones, size=SIMHASH_SIZE, start=0):\n",
    "    # Returns all possible positions of `num_ones` ones in a sequence of `size` bits,\n",
    "    # whereas the other bits are considered as zeros\n",
    "    if num_ones == 0:\n",
    "        yield []\n",
    "        return\n",
    "    for position in range(start, size):\n",
    "        for positions in permutations(num_ones - 1, size, position + 1):\n",
    "            yield [position] + positions"
   ]
  },
  {
   "cell_type": "code",
   "execution_count": 36,
   "metadata": {},
   "outputs": [
    {
     "name": "stdout",
     "output_type": "stream",
     "text": [
      "43745\n"
     ]
    }
   ],
   "source": [
    "accepted_xors = set()\n",
    "\n",
    "for num_ones in xrange(MAX_DISTANCE + 1):\n",
    "    for positions in permutations(num_ones):\n",
    "        xor = [\"0\"] * SIMHASH_SIZE\n",
    "        for pos in positions:\n",
    "            xor[pos] = \"1\"\n",
    "        accepted_xors.add(np.uint64(int(\"\".join(xor), 2)))\n",
    "\n",
    "print len(accepted_xors)"
   ]
  },
  {
   "cell_type": "code",
   "execution_count": 37,
   "metadata": {
    "collapsed": true
   },
   "outputs": [],
   "source": [
    "def similar(hash1, hash2):\n",
    "    return (hash1 ^ hash2) in accepted_xors"
   ]
  },
  {
   "cell_type": "markdown",
   "metadata": {},
   "source": [
    "Прокластеризуем хеши независимо."
   ]
  },
  {
   "cell_type": "code",
   "execution_count": 45,
   "metadata": {
    "scrolled": true
   },
   "outputs": [
    {
     "name": "stdout",
     "output_type": "stream",
     "text": [
      "CPU times: user 1h 28min 9s, sys: 22.8 s, total: 1h 28min 32s\n",
      "Wall time: 1h 27min 54s\n"
     ]
    }
   ],
   "source": [
    "%%time\n",
    "\n",
    "groups_sizes = []\n",
    "start = time()\n",
    "for simhash_id, simhash in enumerate(simhashes):\n",
    "    group = set()\n",
    "    simhash_parts = simhashes_parts[simhash_id]\n",
    "    for part_id, part in enumerate(simhash_parts):\n",
    "        for candidate_id in indices[part_id][part]:\n",
    "            if similar(simhash, simhashes[candidate_id]):\n",
    "                group.add(candidate_id)\n",
    "    \n",
    "    groups_sizes.append(len(group))\n",
    "    \n",
    "    remained_time(start, simhash_id, num_samples)\n",
    "\n",
    "clear_output()"
   ]
  },
  {
   "cell_type": "code",
   "execution_count": 46,
   "metadata": {
    "collapsed": true
   },
   "outputs": [],
   "source": [
    "groups_sizes = np.array(groups_sizes)\n",
    "np.save(\"groups_sizes\", groups_sizes)"
   ]
  },
  {
   "cell_type": "code",
   "execution_count": 47,
   "metadata": {
    "collapsed": true
   },
   "outputs": [],
   "source": [
    "groups_sizes = np.load(\"groups_sizes.npy\")"
   ]
  },
  {
   "cell_type": "markdown",
   "metadata": {},
   "source": [
    "## Вероятностный поиск полудублей."
   ]
  },
  {
   "cell_type": "markdown",
   "metadata": {},
   "source": [
    "Считаем побитные вероятности."
   ]
  },
  {
   "cell_type": "code",
   "execution_count": 12,
   "metadata": {},
   "outputs": [
    {
     "name": "stdout",
     "output_type": "stream",
     "text": [
      "CPU times: user 7min 2s, sys: 420 ms, total: 7min 3s\n",
      "Wall time: 7min 3s\n"
     ]
    }
   ],
   "source": [
    "%%time\n",
    "alpha = 0.1  # suppose that we add/remove `alpha` of the words in a document\n",
    "stds = Xs.std(axis=0) * alpha\n",
    "distributions = [sps.norm(0, std) for std in stds]\n",
    "probabilities = []  # probabilities\n",
    "for X in np.abs(Xs):\n",
    "    probabilities.append([dist.cdf(-x) for x, dist in zip(X, distributions)])\n",
    "\n",
    "probabilities = np.array(probabilities)\n",
    "np.save(\"probabilities\", probabilities)"
   ]
  },
  {
   "cell_type": "code",
   "execution_count": 48,
   "metadata": {
    "collapsed": true
   },
   "outputs": [],
   "source": [
    "probabilities = np.load(\"probabilities.npy\")"
   ]
  },
  {
   "cell_type": "markdown",
   "metadata": {},
   "source": [
    "Сортируем вычисленные вероятности."
   ]
  },
  {
   "cell_type": "code",
   "execution_count": 49,
   "metadata": {
    "collapsed": true
   },
   "outputs": [],
   "source": [
    "most_probable_flipped_bits = []\n",
    "for probs in probabilities:\n",
    "    most_probable_flipped_bits.append(np.flip(np.argsort(probs), 0))\n",
    "most_probable_flipped_bits = np.array(most_probable_flipped_bits)"
   ]
  },
  {
   "cell_type": "markdown",
   "metadata": {},
   "source": [
    "Т.к. некоторые документы имеют один и тот же симхеш, заведём счётчик документов для каждого симхэша."
   ]
  },
  {
   "cell_type": "code",
   "execution_count": 50,
   "metadata": {
    "collapsed": true
   },
   "outputs": [],
   "source": [
    "simhashes_counts = Counter(simhashes)"
   ]
  },
  {
   "cell_type": "markdown",
   "metadata": {},
   "source": [
    "Заведём вспомогательные конструкции для флипа битов."
   ]
  },
  {
   "cell_type": "code",
   "execution_count": null,
   "metadata": {
    "collapsed": true
   },
   "outputs": [],
   "source": [
    "# Precompute all possible combinations of flipped bits' positions\n",
    "flipped_positions = []\n",
    "for num_flipped in range(1, MAX_DISTANCE + 1):\n",
    "    for positions in permutations(num_flipped, SIMHASH_SIZE):\n",
    "        flipped_positions.append(positions)\n",
    "powers_of_two = [np.uint64(2 ** n) for n in xrange(0, SIMHASH_SIZE)]  # used for bits flipping"
   ]
  },
  {
   "cell_type": "code",
   "execution_count": 56,
   "metadata": {},
   "outputs": [
    {
     "name": "stdout",
     "output_type": "stream",
     "text": [
      "CPU times: user 15h 6min 22s, sys: 6min 5s, total: 15h 12min 27s\n",
      "Wall time: 15h 7min 12s\n"
     ]
    }
   ],
   "source": [
    "%%time\n",
    "\n",
    "proportions_found = []  # found subduplicates proportions for each `k` averaged over all documents\n",
    "start = time()\n",
    "\n",
    "for simhash_id, (simhash, group_size, probs, bits_indices) in enumerate(zip(simhashes, groups_sizes, probabilities,\n",
    "                                                                            most_probable_flipped_bits)):\n",
    "    prob_total_init = np.prod(1. - probs)\n",
    "    heap = []\n",
    "    for positions in flipped_positions:\n",
    "        flipped_bits = [bits_indices[pos] for pos in positions]\n",
    "        prob_total = np.copy(prob_total_init)\n",
    "        for bit in flipped_bits:\n",
    "            prob_total *= probs[bit] / (1. - probs[bit])\n",
    "        heappush(heap, (-prob_total, flipped_bits))\n",
    "    \n",
    "    found = simhashes_counts[simhash]\n",
    "    nums_found_local = [found]\n",
    "    for k in range(1, len(heap) + 1):\n",
    "        _, flipped_bits = heappop(heap)\n",
    "        simhash_flipped = simhash.copy()\n",
    "        for bit in flipped_bits:\n",
    "            simhash_flipped ^= powers_of_two[SIMHASH_SIZE - bit - 1]\n",
    "        if simhash_flipped in simhashes_counts:\n",
    "            found += simhashes_counts[simhash_flipped]\n",
    "        nums_found_local.append(found)\n",
    "        if found == group_size:\n",
    "            nums_found_local += [found] * len(heap)\n",
    "            break\n",
    "    \n",
    "    if simhash_id == 0:\n",
    "        proportions_found = np.array(nums_found_local) / float(group_size)\n",
    "    else:\n",
    "        # Update proportions\n",
    "        proportions_found = proportions_found * simhash_id + np.array(nums_found_local) / float(group_size)\n",
    "        proportions_found /= simhash_id + 1\n",
    "    \n",
    "    # Just time measures\n",
    "    remained_time(start, simhash_id, num_samples)\n",
    "\n",
    "clear_output()"
   ]
  },
  {
   "cell_type": "code",
   "execution_count": 64,
   "metadata": {
    "collapsed": true
   },
   "outputs": [],
   "source": [
    "np.save(\"proportions\", proportions_found)"
   ]
  },
  {
   "cell_type": "markdown",
   "metadata": {},
   "source": [
    "Построим график зависимости найденной доли полудубликтов от числа обращений k."
   ]
  },
  {
   "cell_type": "code",
   "execution_count": 62,
   "metadata": {},
   "outputs": [
    {
     "data": {
      "image/png": "[encoded data removed]",
      "text/plain": [
       "<matplotlib.figure.Figure at 0x7f6f15381b90>"
      ]
     },
     "metadata": {},
     "output_type": "display_data"
    }
   ],
   "source": [
    "plt.figure(figsize=(15, 10))\n",
    "plt.plot(proportions_found)\n",
    "plt.xlabel(\"k\")\n",
    "plt.ylabel(\"Found subduplicates proportion\");"
   ]
  },
  {
   "cell_type": "markdown",
   "metadata": {},
   "source": [
    "Среднее число обращений к множеству симхешей для обнаружения 30%, 50% и 80% полудубликатов:"
   ]
  },
  {
   "cell_type": "code",
   "execution_count": 63,
   "metadata": {},
   "outputs": [
    {
     "name": "stdout",
     "output_type": "stream",
     "text": [
      "[84, 248, 1112]\n"
     ]
    }
   ],
   "source": [
    "print [np.searchsorted(proportions_found, proportion) for proportion in (0.3, 0.5, 0.8)]"
   ]
  }
 ],
 "metadata": {
  "kernelspec": {
   "display_name": "Python 2",
   "language": "python",
   "name": "python2"
  },
  "language_info": {
   "codemirror_mode": {
    "name": "ipython",
    "version": 2
   },
   "file_extension": ".py",
   "mimetype": "text/x-python",
   "name": "python",
   "nbconvert_exporter": "python",
   "pygments_lexer": "ipython2",
   "version": "2.7.12"
  }
 },
 "nbformat": 4,
 "nbformat_minor": 2
}
