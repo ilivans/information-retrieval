{
 "cells": [
  {
   "cell_type": "code",
   "execution_count": 11,
   "metadata": {
    "collapsed": false
   },
   "outputs": [
    {
     "name": "stdout",
     "output_type": "stream",
     "text": [
      "1.txt\n",
      "3.txt\n",
      "2.txt\n"
     ]
    }
   ],
   "source": [
    "import os\n",
    "import cPickle\n",
    "\n",
    "indexer = dict()\n",
    "\n",
    "dirname = './txt'\n",
    "\n",
    "for filename in os.listdir(dirname):\n",
    "    if filename.endswith(\".txt\"):\n",
    "        print filename\n",
    "        filepath = dirname + '/' + filename\n",
    "        indexer[filepath] = open(filepath, 'r').read()\n",
    "        \n",
    "cPickle.dump(indexer, open('indexer.pkl', 'wb'))"
   ]
  },
  {
   "cell_type": "code",
   "execution_count": 17,
   "metadata": {
    "collapsed": false
   },
   "outputs": [
    {
     "data": {
      "text/plain": [
       "{'first': {'./txt/1.txt'},\n",
       " 'hello': {'./txt/1.txt'},\n",
       " 'i': {'./txt/1.txt'},\n",
       " 'm': {'./txt/1.txt'},\n",
       " 'the': {'./txt/1.txt'}}"
      ]
     },
     "execution_count": 17,
     "metadata": {},
     "output_type": "execute_result"
    }
   ],
   "source": [
    "indexer = cPickle.load(open('iindex.pkl', 'rb'))\n",
    "indexer"
   ]
  },
  {
   "cell_type": "code",
   "execution_count": null,
   "metadata": {
    "collapsed": true
   },
   "outputs": [],
   "source": [
    "from nltk.tokenize import RegexpTokenizer\n",
    "tokenize = RegexpTokenizer('\\b\\w+\\b').tokenize"
   ]
  }
 ],
 "metadata": {
  "kernelspec": {
   "display_name": "Python 2",
   "language": "python",
   "name": "python2"
  },
  "language_info": {
   "codemirror_mode": {
    "name": "ipython",
    "version": 2
   },
   "file_extension": ".py",
   "mimetype": "text/x-python",
   "name": "python",
   "nbconvert_exporter": "python",
   "pygments_lexer": "ipython2",
   "version": "2.7.6"
  }
 },
 "nbformat": 4,
 "nbformat_minor": 2
}
