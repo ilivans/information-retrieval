{
 "cells": [
  {
   "cell_type": "code",
   "execution_count": 1,
   "metadata": {
    "collapsed": true
   },
   "outputs": [],
   "source": [
    "import os\n",
    "import logging\n",
    "from time import sleep\n",
    "\n",
    "import networkx as nx\n",
    "\n",
    "from link_parser import LinkParser\n",
    "\n",
    "logging.basicConfig(filename=\"/media/ssd/simple.wiki/spider.log\",\n",
    "                    format=\"%(asctime)s - %(levelname)s - %(message)s\",\n",
    "                    datefmt='%I:%M:%S %p',\n",
    "                    filemode='w',\n",
    "                    level=logging.INFO)"
   ]
  },
  {
   "cell_type": "markdown",
   "metadata": {},
   "source": [
    "На этапе фильтрации при помощи регулярного выражения отбираются url-ы, ведущие на уникальные вики-страницы. Эти страницы имеют доменное имя simple.wikipedia.org и лежат по пути wiki. По интересующему пути simple.wikipedia.org/wiki/ также лежат служебные страницы, начинающиеся на File:, Help:, Special: и т.д., которые отбрасываются во время фильтрации (при этом нельзя отбрасывать любой url с символом ':', т.к. существуют такие страницы, как \"ISO_3166-2:BR\" или \"Star_Trek:_Phase_II\"). Ещё одним особым случаем является url по вышеуказанному пути, чья уникальная часть начинается на символ '#' (например, simple.wikipedia.org/wiki/#blabla) - такой url редиректит на главную страницу. Его также считаем невалидным (встретился после посещения половины всех страниц).\n",
    "\n",
    "На этапе нормализации из url-а отбрасывается часть, начинающаяся с хештега, т.к. она содержит в себе лишь информацию об определённом положении на странице. Также отсекается внутренний путь страницы, идущий за слешем после названия страницы.\n",
    "\n",
    "При обходе поддерживаются множества url-ов to_visit и visited (в первом не могут содержаться объекты из второго). Также во время обхода строится ориентированный граф из страниц для дальнейшего вычисления PageRank-а."
   ]
  },
  {
   "cell_type": "code",
   "execution_count": null,
   "metadata": {
    "collapsed": false,
    "scrolled": false
   },
   "outputs": [],
   "source": [
    "%%time\n",
    "link_parser = LinkParser()\n",
    "to_visit = {\"https://simple.wikipedia.org/wiki/Main_Page\"}  # starting url\n",
    "visited = set()\n",
    "graph = nx.DiGraph()\n",
    "\n",
    "def spider(delay=0.1):\n",
    "    global link_parser, to_visit, visited, graph\n",
    "    while len(to_visit):\n",
    "        url = to_visit.pop()\n",
    "        logging.info(\"%s: %s\", len(visited), url)\n",
    "        graph.add_node(url)\n",
    "        try:\n",
    "            links = link_parser.get_links(url)\n",
    "        except Exception as e:\n",
    "            print e\n",
    "            logging.error(e)\n",
    "            break\n",
    "        visited.add(url)\n",
    "        to_visit = to_visit.union(links - visited)\n",
    "        graph.add_edges_from(zip([url] * len(links), links))\n",
    "        sleep(delay)\n",
    "\n",
    "spider(0.01)"
   ]
  },
  {
   "cell_type": "code",
   "execution_count": null,
   "metadata": {
    "collapsed": true
   },
   "outputs": [],
   "source": []
  }
 ],
 "metadata": {
  "kernelspec": {
   "display_name": "Python 2",
   "language": "python",
   "name": "python2"
  },
  "language_info": {
   "codemirror_mode": {
    "name": "ipython",
    "version": 2
   },
   "file_extension": ".py",
   "mimetype": "text/x-python",
   "name": "python",
   "nbconvert_exporter": "python",
   "pygments_lexer": "ipython2",
   "version": "2.7.12"
  }
 },
 "nbformat": 4,
 "nbformat_minor": 2
}
