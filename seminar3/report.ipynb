{
 "cells": [
  {
   "cell_type": "code",
   "execution_count": 4,
   "metadata": {
    "collapsed": false
   },
   "outputs": [],
   "source": [
    "from heapq import heapify, heappushpop\n",
    "\n",
    "import numpy as np\n",
    "from tabulate import tabulate\n",
    "\n",
    "from utils import get_npmi_part_path, PICKLE_PATH, TFIDF_PATH, NPMI_PART_SIZE, VOCABULARY_PATH"
   ]
  },
  {
   "cell_type": "code",
   "execution_count": 12,
   "metadata": {
    "collapsed": true
   },
   "outputs": [],
   "source": [
    "vocabulary = np.load(VOCABULARY_PATH)\n",
    "voc_size = vocabulary.shape[0]"
   ]
  },
  {
   "cell_type": "code",
   "execution_count": 15,
   "metadata": {
    "collapsed": false
   },
   "outputs": [
    {
     "name": "stdout",
     "output_type": "stream",
     "text": [
      "CPU times: user 3h 26min 58s, sys: 56.6 s, total: 3h 27min 55s\n",
      "Wall time: 3h 27min 18s\n"
     ]
    }
   ],
   "source": [
    "%%time\n",
    "\n",
    "closest_minus_1 = [(-2, None)] * 10\n",
    "closest_0 = [(-2, None)] * 10\n",
    "closest_1 = [(-2, None)] * 10\n",
    "\n",
    "for left in range(voc_size)[::NPMI_PART_SIZE]:\n",
    "    npmi_part_path = get_npmi_part_path(left)\n",
    "    npmi_submatrix = np.load(npmi_part_path)\n",
    "    for t1 in range(npmi_submatrix.shape[0]):\n",
    "        for term2 in range(npmi_submatrix.shape[1]):\n",
    "            npmi = npmi_submatrix[t1, term2]\n",
    "            term1 = left + t1\n",
    "            # Don't consider equal terms\n",
    "            if term1 == term2:\n",
    "                continue\n",
    "            pair = (vocabulary[term1], vocabulary[term2])\n",
    "            heappushpop(closest_minus_1, (-npmi, pair))\n",
    "            heappushpop(closest_0, (-abs(npmi), pair))\n",
    "            heappushpop(closest_1, (npmi, pair))"
   ]
  },
  {
   "cell_type": "code",
   "execution_count": 20,
   "metadata": {
    "collapsed": false
   },
   "outputs": [
    {
     "data": {
      "text/plain": [
       "[(-1.0, ('zzz', 'zy')),\n",
       " (-1.0, ('zzz', 'zygmund')),\n",
       " (-1.0, ('zzz', 'zygalakis')),\n",
       " (-1.0, ('zzz', 'zyy')),\n",
       " (-1.0, ('zzz', 'zzajklz')),\n",
       " (-1.0, ('zzz', 'zylberberg')),\n",
       " (-1.0, ('zzz', 'zyx')),\n",
       " (-1.0, ('zzz', 'zzs')),\n",
       " (-1.0, ('zzz', 'zz')),\n",
       " (-1.0, ('zzz', 'zzt'))]"
      ]
     },
     "execution_count": 20,
     "metadata": {},
     "output_type": "execute_result"
    }
   ],
   "source": [
    "[(-c[0], c[1]) for c in closest_minus_1]"
   ]
  },
  {
   "cell_type": "code",
   "execution_count": 17,
   "metadata": {
    "collapsed": false
   },
   "outputs": [
    {
     "data": {
      "text/plain": [
       "[(-0.0, ('zzt', '3')),\n",
       " (-0.0, ('zzt', '4')),\n",
       " (-0.0, ('zzt', 'a')),\n",
       " (-0.0, ('zzt', 'on')),\n",
       " (-0.0, ('zzz', '2')),\n",
       " (-0.0, ('zzz', '3')),\n",
       " (-0.0, ('zzz', 'on')),\n",
       " (-0.0, ('zzz', '1')),\n",
       " (-0.0, ('zzz', '4')),\n",
       " (-0.0, ('zzz', 'a'))]"
      ]
     },
     "execution_count": 17,
     "metadata": {},
     "output_type": "execute_result"
    }
   ],
   "source": [
    "closest_0"
   ]
  },
  {
   "cell_type": "code",
   "execution_count": 18,
   "metadata": {
    "collapsed": false
   },
   "outputs": [
    {
     "data": {
      "text/plain": [
       "[(1.0, ('zzz', 'thir')),\n",
       " (1.0, ('zzz', 'tsketch')),\n",
       " (1.0, ('zzz', 'tpower')),\n",
       " (1.0, ('zzz', 'wi21')),\n",
       " (1.0, ('zzz', 'varimax')),\n",
       " (1.0, ('zzz', 'wi2k')),\n",
       " (1.0, ('zzz', 'ujs')),\n",
       " (1.0, ('zzz', 'xxk')),\n",
       " (1.0, ('zzz', 'xax')),\n",
       " (1.0, ('zzz', 'xjaxj'))]"
      ]
     },
     "execution_count": 18,
     "metadata": {},
     "output_type": "execute_result"
    }
   ],
   "source": [
    "closest_1"
   ]
  }
 ],
 "metadata": {
  "kernelspec": {
   "display_name": "Python 2",
   "language": "python",
   "name": "python2"
  },
  "language_info": {
   "codemirror_mode": {
    "name": "ipython",
    "version": 2
   },
   "file_extension": ".py",
   "mimetype": "text/x-python",
   "name": "python",
   "nbconvert_exporter": "python",
   "pygments_lexer": "ipython2",
   "version": "2.7.12"
  }
 },
 "nbformat": 4,
 "nbformat_minor": 2
}
